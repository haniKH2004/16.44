{
  "nbformat": 4,
  "nbformat_minor": 0,
  "metadata": {
    "colab": {
      "name": "Untitled0.ipynb",
      "provenance": []
    },
    "kernelspec": {
      "name": "python3",
      "display_name": "Python 3"
    },
    "language_info": {
      "name": "python"
    }
  },
  "cells": [
    {
      "cell_type": "code",
      "execution_count": null,
      "metadata": {
        "colab": {
          "base_uri": "https://localhost:8080/"
        },
        "id": "t-G7-SEizo29",
        "outputId": "f8d73a11-2d88-4504-b0f8-dde5ec65304e"
      },
      "outputs": [
        {
          "output_type": "stream",
          "name": "stdout",
          "text": [
            "12\n",
            "14\n"
          ]
        }
      ],
      "source": [
        "class Rectangle:\n",
        "    def __init__(self, width, length):\n",
        "        self.length = length\n",
        "        self.width = width\n",
        "        \n",
        "    \n",
        "    def calculate_perimeter(self):\n",
        "        \n",
        "        return 2 * (self.width + self.length)\n",
        "    def calculate_area(self):\n",
        "       return self.length*self.width\n",
        "\n",
        "rectangle_1 = Rectangle(3, 4)\n",
        "rectangle_2 = Rectangle(3,4)\n",
        "\n",
        "print(rectangle_2.calculate_area())\n",
        "print (Rectangle_1.calculate_perimeter())"
      ]
    },
    {
      "cell_type": "code",
      "source": [
        "from math import pi\n",
        "class Circle():\n",
        "    def __init__(self,center ,r):\n",
        "        self.radius = 1\n",
        "        self.center=center\n",
        "    def area(self):\n",
        "        return self.radius**2*pi\n",
        "    \n",
        "    def perimeter(self):\n",
        "        return 2*self.radius*pi\n",
        "circle=Circle(0,2)\n",
        "\n",
        "\n",
        "print(NewCircle.area())\n",
        "print(NewCircle.perimeter())"
      ],
      "metadata": {
        "colab": {
          "base_uri": "https://localhost:8080/"
        },
        "id": "SxMPr9bu3RQT",
        "outputId": "b98c3284-636e-4b92-8a0a-4bb8d765924a"
      },
      "execution_count": 27,
      "outputs": [
        {
          "output_type": "stream",
          "name": "stdout",
          "text": [
            "3.141592653589793\n",
            "6.283185307179586\n"
          ]
        }
      ]
    },
    {
      "cell_type": "code",
      "source": [
        "class Bank_Account:\n",
        "    def __init__(self):\n",
        "        self.balance=0\n",
        "        print(\"Hello!!! Welcome to the Deposit & Withdrawal Machine\")\n",
        " \n",
        "    def deposit(self):\n",
        "        amount=float(input(\"Enter amount to be Deposited: \"))\n",
        "        self.balance += amount\n",
        "        print(\"\\n Amount Deposited:\",amount)\n",
        " \n",
        "    def withdraw(self):\n",
        "        amount = float(input(\"Enter amount to be Withdrawn: \"))\n",
        "        if self.balance>=amount:\n",
        "            self.balance-=amount\n",
        "            print(\"\\n You Withdrew:\", amount)\n",
        "        else:\n",
        "            print(\"\\n Insufficient balance  \")\n",
        " \n",
        "    def display(self):\n",
        "        print(\"\\n Net Available Balance=\",self.balance)\n",
        "s = Bank_Account()\n",
        "  \n",
        "\n",
        "s.deposit()\n",
        "s.withdraw()\n",
        "s.display()"
      ],
      "metadata": {
        "id": "9QKKVKgq3_KK",
        "colab": {
          "base_uri": "https://localhost:8080/"
        },
        "outputId": "3fbee951-b270-4bb7-cbcc-662ee6696710"
      },
      "execution_count": 31,
      "outputs": [
        {
          "output_type": "stream",
          "name": "stdout",
          "text": [
            "Hello!!! Welcome to the Deposit & Withdrawal Machine\n",
            "Enter amount to be Deposited: 1000000\n",
            "\n",
            " Amount Deposited: 1000000.0\n",
            "Enter amount to be Withdrawn: 200\n",
            "\n",
            " You Withdrew: 200.0\n",
            "\n",
            " Net Available Balance= 999800.0\n"
          ]
        }
      ]
    },
    {
      "cell_type": "code",
      "source": [],
      "metadata": {
        "id": "F6mVHmrl9jMW"
      },
      "execution_count": 30,
      "outputs": []
    }
  ]
}