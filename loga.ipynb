{
  "nbformat": 4,
  "nbformat_minor": 0,
  "metadata": {
    "colab": {
      "provenance": [],
      "collapsed_sections": [],
      "authorship_tag": "ABX9TyP2DnzBmnXZzDfsvysfaG1s",
      "include_colab_link": true
    },
    "kernelspec": {
      "name": "python3",
      "display_name": "Python 3"
    },
    "language_info": {
      "name": "python"
    }
  },
  "cells": [
    {
      "cell_type": "markdown",
      "metadata": {
        "id": "view-in-github",
        "colab_type": "text"
      },
      "source": [
        "<a href=\"https://colab.research.google.com/github/haniKH2004/16.44/blob/main/loga.ipynb\" target=\"_parent\"><img src=\"https://colab.research.google.com/assets/colab-badge.svg\" alt=\"Open In Colab\"/></a>"
      ]
    },
    {
      "cell_type": "code",
      "execution_count": 1,
      "metadata": {
        "colab": {
          "base_uri": "https://localhost:8080/"
        },
        "id": "9oHpJul01YWi",
        "outputId": "09a6f604-31b4-429d-e055-cae6992fd337"
      },
      "outputs": [
        {
          "output_type": "stream",
          "name": "stdout",
          "text": [
            "False\n",
            "True\n"
          ]
        }
      ],
      "source": [
        "def binary_search(item_list,item):\n",
        "\tfirst = 0\n",
        "\tlast = len(item_list)-1\n",
        "\tfound = False\n",
        "\twhile( first<=last and not found):\n",
        "\t\tmid = (first + last)//2\n",
        "\t\tif item_list[mid] == item :\n",
        "\t\t\tfound = True\n",
        "\t\telse:\n",
        "\t\t\tif item < item_list[mid]:\n",
        "\t\t\t\tlast = mid - 1\n",
        "\t\t\telse:\n",
        "\t\t\t\tfirst = mid + 1\t\n",
        "\treturn found\n",
        "\t\n",
        "print(binary_search([1,2,3,5,8], 6))\n",
        "print(binary_search([1,2,3,5,8], 5))"
      ]
    },
    {
      "cell_type": "code",
      "source": [
        "def bubbleSort(nlist):\n",
        "    for passnum in range(len(nlist)-1,0,-1):\n",
        "        for i in range(passnum):\n",
        "            if nlist[i]>nlist[i+1]:\n",
        "                temp = nlist[i]\n",
        "                nlist[i] = nlist[i+1]\n",
        "                nlist[i+1] = temp\n",
        "\n",
        "nlist = [14,46,43,27,57,41,45,21,70]\n",
        "bubbleSort(nlist)\n",
        "print(nlist)"
      ],
      "metadata": {
        "colab": {
          "base_uri": "https://localhost:8080/"
        },
        "id": "4iyL_m6H11JS",
        "outputId": "e7fa671f-a9e1-4ce1-ec82-14def7e9a41e"
      },
      "execution_count": 11,
      "outputs": [
        {
          "output_type": "stream",
          "name": "stdout",
          "text": [
            "[14, 21, 27, 41, 43, 45, 46, 57, 70]\n"
          ]
        }
      ]
    },
    {
      "cell_type": "code",
      "source": [
        "def mergeSort(nlist):\n",
        "    print(\"Splitting \",nlist)\n",
        "    if len(nlist)>1:\n",
        "        mid = len(nlist)//2\n",
        "        lefthalf = nlist[:mid]\n",
        "        righthalf = nlist[mid:]\n",
        "\n",
        "        mergeSort(lefthalf)\n",
        "        mergeSort(righthalf)\n",
        "        i=j=k=0       \n",
        "        while i < len(lefthalf) and j < len(righthalf):\n",
        "            if lefthalf[i] < righthalf[j]:\n",
        "                nlist[k]=lefthalf[i]\n",
        "                i=i+1\n",
        "            else:\n",
        "                nlist[k]=righthalf[j]\n",
        "                j=j+1\n",
        "            k=k+1\n",
        "\n",
        "        while i < len(lefthalf):\n",
        "            nlist[k]=lefthalf[i]\n",
        "            i=i+1\n",
        "            k=k+1\n",
        "\n",
        "        while j < len(righthalf):\n",
        "            nlist[k]=righthalf[j]\n",
        "            j=j+1\n",
        "            k=k+1\n",
        "    print(\"Merging \",nlist)\n",
        "\n",
        "nlist = [14,46,43,27,57,41,45,21,70]\n",
        "mergeSort(nlist)\n",
        "print(nlist)"
      ],
      "metadata": {
        "colab": {
          "base_uri": "https://localhost:8080/"
        },
        "id": "aRgxk0Q9111c",
        "outputId": "85808143-f475-4aeb-8848-2e6af4384a20"
      },
      "execution_count": 12,
      "outputs": [
        {
          "output_type": "stream",
          "name": "stdout",
          "text": [
            "Splitting  [14, 46, 43, 27, 57, 41, 45, 21, 70]\n",
            "Splitting  [14, 46, 43, 27]\n",
            "Splitting  [14, 46]\n",
            "Splitting  [14]\n",
            "Merging  [14]\n",
            "Splitting  [46]\n",
            "Merging  [46]\n",
            "Merging  [14, 46]\n",
            "Splitting  [43, 27]\n",
            "Splitting  [43]\n",
            "Merging  [43]\n",
            "Splitting  [27]\n",
            "Merging  [27]\n",
            "Merging  [27, 43]\n",
            "Merging  [14, 27, 43, 46]\n",
            "Splitting  [57, 41, 45, 21, 70]\n",
            "Splitting  [57, 41]\n",
            "Splitting  [57]\n",
            "Merging  [57]\n",
            "Splitting  [41]\n",
            "Merging  [41]\n",
            "Merging  [41, 57]\n",
            "Splitting  [45, 21, 70]\n",
            "Splitting  [45]\n",
            "Merging  [45]\n",
            "Splitting  [21, 70]\n",
            "Splitting  [21]\n",
            "Merging  [21]\n",
            "Splitting  [70]\n",
            "Merging  [70]\n",
            "Merging  [21, 70]\n",
            "Merging  [21, 45, 70]\n",
            "Merging  [21, 41, 45, 57, 70]\n",
            "Merging  [14, 21, 27, 41, 43, 45, 46, 57, 70]\n",
            "[14, 21, 27, 41, 43, 45, 46, 57, 70]\n"
          ]
        }
      ]
    },
    {
      "cell_type": "code",
      "source": [],
      "metadata": {
        "id": "64LhmYeB2CnG"
      },
      "execution_count": null,
      "outputs": []
    }
  ]
}